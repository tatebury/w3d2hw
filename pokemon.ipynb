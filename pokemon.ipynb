{
 "cells": [
  {
   "cell_type": "markdown",
   "id": "6d546014",
   "metadata": {},
   "source": [
    "# <strong>Homework</strong>\n",
    "check out this Pokemon API https://pokeapi.co/\n",
    "Use the requests package to connect to this API and get and store data for 5 different pokemon.\n",
    "Get the pokemons: name, atleast one ability's name, base_experience, and the URL for its sprite (an image that shows up on screen) for the 'front_shiny'"
   ]
  },
  {
   "cell_type": "code",
   "execution_count": 1,
   "id": "3da7048f",
   "metadata": {},
   "outputs": [],
   "source": [
    "import requests, json\n",
    "poke_list = requests.get(\"https://pokeapi.co/api/v2/pokemon/\")\n",
    "\n",
    "# bulbasaur = requests.get(poke_list.json()['results'][0]['url'])\n",
    "# ivysaur = requests.get(poke_list.json()['results'][1]['url'])\n",
    "# venusaur = requests.get(poke_list.json()['results'][2]['url'])\n",
    "# charmander = requests.get(poke_list.json()['results'][3]['url'])\n",
    "# charmeleon = requests.get(poke_list.json()['results'][4]['url'])\n",
    "\n",
    "\n",
    "\n",
    "# print(bulbasaur, ivysaur, venusaur, charmander, charmeleon)\n",
    "# pokemon = [bulbasaur, ivysaur, venusaur, charmander, charmeleon]"
   ]
  },
  {
   "cell_type": "code",
   "execution_count": 5,
   "id": "9a7d202f",
   "metadata": {},
   "outputs": [],
   "source": [
    "\n",
    "def get_info(*nums):\n",
    "    pokemon_info = []\n",
    "    \n",
    "    for num in nums:\n",
    "        single_poke = {}\n",
    "        poke = requests.get(poke_list.json()['results'][num-1]['url']).json()\n",
    "        sprite_page = requests.get(poke['forms'][0]['url']).json()\n",
    "        \n",
    "        single_poke['Name'] = poke['forms'][0]['name']\n",
    "        single_poke['Ability 1'] = poke['abilities'][0]['ability']['name']\n",
    "        single_poke['Ability 2'] = poke['abilities'][1]['ability']['name']\n",
    "        single_poke['Base Experiance'] = poke['base_experience']\n",
    "        single_poke['Sprite URL'] = sprite_page['sprites']['front_shiny']\n",
    "        \n",
    "        pokemon_info.append(single_poke)\n",
    "        \n",
    "    return pokemon_info"
   ]
  },
  {
   "cell_type": "code",
   "execution_count": 6,
   "id": "f27825e0",
   "metadata": {},
   "outputs": [
    {
     "data": {
      "text/plain": [
       "[{'Name': 'bulbasaur',\n",
       "  'Ability 1': 'overgrow',\n",
       "  'Ability 2': 'chlorophyll',\n",
       "  'Base Experiance': 64,\n",
       "  'Sprite URL': 'https://raw.githubusercontent.com/PokeAPI/sprites/master/sprites/pokemon/shiny/1.png'},\n",
       " {'Name': 'ivysaur',\n",
       "  'Ability 1': 'overgrow',\n",
       "  'Ability 2': 'chlorophyll',\n",
       "  'Base Experiance': 142,\n",
       "  'Sprite URL': 'https://raw.githubusercontent.com/PokeAPI/sprites/master/sprites/pokemon/shiny/2.png'},\n",
       " {'Name': 'venusaur',\n",
       "  'Ability 1': 'overgrow',\n",
       "  'Ability 2': 'chlorophyll',\n",
       "  'Base Experiance': 236,\n",
       "  'Sprite URL': 'https://raw.githubusercontent.com/PokeAPI/sprites/master/sprites/pokemon/shiny/3.png'},\n",
       " {'Name': 'charmander',\n",
       "  'Ability 1': 'blaze',\n",
       "  'Ability 2': 'solar-power',\n",
       "  'Base Experiance': 62,\n",
       "  'Sprite URL': 'https://raw.githubusercontent.com/PokeAPI/sprites/master/sprites/pokemon/shiny/4.png'},\n",
       " {'Name': 'charmeleon',\n",
       "  'Ability 1': 'blaze',\n",
       "  'Ability 2': 'solar-power',\n",
       "  'Base Experiance': 142,\n",
       "  'Sprite URL': 'https://raw.githubusercontent.com/PokeAPI/sprites/master/sprites/pokemon/shiny/5.png'}]"
      ]
     },
     "execution_count": 6,
     "metadata": {},
     "output_type": "execute_result"
    }
   ],
   "source": [
    "get_info(1,2,3,4,5)"
   ]
  }
 ],
 "metadata": {
  "kernelspec": {
   "display_name": "Python 3",
   "language": "python",
   "name": "python3"
  },
  "language_info": {
   "codemirror_mode": {
    "name": "ipython",
    "version": 3
   },
   "file_extension": ".py",
   "mimetype": "text/x-python",
   "name": "python",
   "nbconvert_exporter": "python",
   "pygments_lexer": "ipython3",
   "version": "3.8.8"
  }
 },
 "nbformat": 4,
 "nbformat_minor": 5
}
